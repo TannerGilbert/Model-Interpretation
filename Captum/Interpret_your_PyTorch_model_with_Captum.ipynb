{
  "nbformat": 4,
  "nbformat_minor": 0,
  "metadata": {
    "accelerator": "GPU",
    "colab": {
      "name": "Interpret your PyTorch model with Captum.ipynb",
      "provenance": [],
      "collapsed_sections": []
    },
    "kernelspec": {
      "display_name": "Python 3",
      "language": "python",
      "name": "python3"
    },
    "language_info": {
      "codemirror_mode": {
        "name": "ipython",
        "version": 3
      },
      "file_extension": ".py",
      "mimetype": "text/x-python",
      "name": "python",
      "nbconvert_exporter": "python",
      "pygments_lexer": "ipython3",
      "version": "3.7.4"
    },
    "widgets": {
      "application/vnd.jupyter.widget-state+json": {
        "2d5755486dc74311bfe48969783d3969": {
          "model_module": "@jupyter-widgets/controls",
          "model_name": "HBoxModel",
          "state": {
            "_view_name": "HBoxView",
            "_dom_classes": [],
            "_model_name": "HBoxModel",
            "_view_module": "@jupyter-widgets/controls",
            "_model_module_version": "1.5.0",
            "_view_count": null,
            "_view_module_version": "1.5.0",
            "box_style": "",
            "layout": "IPY_MODEL_1570648872044cd0a1e921a22806c6d6",
            "_model_module": "@jupyter-widgets/controls",
            "children": [
              "IPY_MODEL_404e42b111064214b08e228f5ec80e5e",
              "IPY_MODEL_49566f44f14c406da0600bfe454609e3"
            ]
          }
        },
        "1570648872044cd0a1e921a22806c6d6": {
          "model_module": "@jupyter-widgets/base",
          "model_name": "LayoutModel",
          "state": {
            "_view_name": "LayoutView",
            "grid_template_rows": null,
            "right": null,
            "justify_content": null,
            "_view_module": "@jupyter-widgets/base",
            "overflow": null,
            "_model_module_version": "1.2.0",
            "_view_count": null,
            "flex_flow": null,
            "width": null,
            "min_width": null,
            "border": null,
            "align_items": null,
            "bottom": null,
            "_model_module": "@jupyter-widgets/base",
            "top": null,
            "grid_column": null,
            "overflow_y": null,
            "overflow_x": null,
            "grid_auto_flow": null,
            "grid_area": null,
            "grid_template_columns": null,
            "flex": null,
            "_model_name": "LayoutModel",
            "justify_items": null,
            "grid_row": null,
            "max_height": null,
            "align_content": null,
            "visibility": null,
            "align_self": null,
            "height": null,
            "min_height": null,
            "padding": null,
            "grid_auto_rows": null,
            "grid_gap": null,
            "max_width": null,
            "order": null,
            "_view_module_version": "1.2.0",
            "grid_template_areas": null,
            "object_position": null,
            "object_fit": null,
            "grid_auto_columns": null,
            "margin": null,
            "display": null,
            "left": null
          }
        },
        "404e42b111064214b08e228f5ec80e5e": {
          "model_module": "@jupyter-widgets/controls",
          "model_name": "FloatProgressModel",
          "state": {
            "_view_name": "ProgressView",
            "style": "IPY_MODEL_7eb2abfc14924a639a1d7534b2d639a0",
            "_dom_classes": [],
            "description": "",
            "_model_name": "FloatProgressModel",
            "bar_style": "success",
            "max": 170498071,
            "_view_module": "@jupyter-widgets/controls",
            "_model_module_version": "1.5.0",
            "value": 170498071,
            "_view_count": null,
            "_view_module_version": "1.5.0",
            "orientation": "horizontal",
            "min": 0,
            "description_tooltip": null,
            "_model_module": "@jupyter-widgets/controls",
            "layout": "IPY_MODEL_292f8ffa19434b0b97c355a2a295a395"
          }
        },
        "49566f44f14c406da0600bfe454609e3": {
          "model_module": "@jupyter-widgets/controls",
          "model_name": "HTMLModel",
          "state": {
            "_view_name": "HTMLView",
            "style": "IPY_MODEL_17b039c7882c481e89a8197926b82bb2",
            "_dom_classes": [],
            "description": "",
            "_model_name": "HTMLModel",
            "placeholder": "​",
            "_view_module": "@jupyter-widgets/controls",
            "_model_module_version": "1.5.0",
            "value": " 170499072/? [06:49&lt;00:00, 416309.60it/s]",
            "_view_count": null,
            "_view_module_version": "1.5.0",
            "description_tooltip": null,
            "_model_module": "@jupyter-widgets/controls",
            "layout": "IPY_MODEL_8c9ab340ae1f4662bba4d07a86379bff"
          }
        },
        "7eb2abfc14924a639a1d7534b2d639a0": {
          "model_module": "@jupyter-widgets/controls",
          "model_name": "ProgressStyleModel",
          "state": {
            "_view_name": "StyleView",
            "_model_name": "ProgressStyleModel",
            "description_width": "initial",
            "_view_module": "@jupyter-widgets/base",
            "_model_module_version": "1.5.0",
            "_view_count": null,
            "_view_module_version": "1.2.0",
            "bar_color": null,
            "_model_module": "@jupyter-widgets/controls"
          }
        },
        "292f8ffa19434b0b97c355a2a295a395": {
          "model_module": "@jupyter-widgets/base",
          "model_name": "LayoutModel",
          "state": {
            "_view_name": "LayoutView",
            "grid_template_rows": null,
            "right": null,
            "justify_content": null,
            "_view_module": "@jupyter-widgets/base",
            "overflow": null,
            "_model_module_version": "1.2.0",
            "_view_count": null,
            "flex_flow": null,
            "width": null,
            "min_width": null,
            "border": null,
            "align_items": null,
            "bottom": null,
            "_model_module": "@jupyter-widgets/base",
            "top": null,
            "grid_column": null,
            "overflow_y": null,
            "overflow_x": null,
            "grid_auto_flow": null,
            "grid_area": null,
            "grid_template_columns": null,
            "flex": null,
            "_model_name": "LayoutModel",
            "justify_items": null,
            "grid_row": null,
            "max_height": null,
            "align_content": null,
            "visibility": null,
            "align_self": null,
            "height": null,
            "min_height": null,
            "padding": null,
            "grid_auto_rows": null,
            "grid_gap": null,
            "max_width": null,
            "order": null,
            "_view_module_version": "1.2.0",
            "grid_template_areas": null,
            "object_position": null,
            "object_fit": null,
            "grid_auto_columns": null,
            "margin": null,
            "display": null,
            "left": null
          }
        },
        "17b039c7882c481e89a8197926b82bb2": {
          "model_module": "@jupyter-widgets/controls",
          "model_name": "DescriptionStyleModel",
          "state": {
            "_view_name": "StyleView",
            "_model_name": "DescriptionStyleModel",
            "description_width": "",
            "_view_module": "@jupyter-widgets/base",
            "_model_module_version": "1.5.0",
            "_view_count": null,
            "_view_module_version": "1.2.0",
            "_model_module": "@jupyter-widgets/controls"
          }
        },
        "8c9ab340ae1f4662bba4d07a86379bff": {
          "model_module": "@jupyter-widgets/base",
          "model_name": "LayoutModel",
          "state": {
            "_view_name": "LayoutView",
            "grid_template_rows": null,
            "right": null,
            "justify_content": null,
            "_view_module": "@jupyter-widgets/base",
            "overflow": null,
            "_model_module_version": "1.2.0",
            "_view_count": null,
            "flex_flow": null,
            "width": null,
            "min_width": null,
            "border": null,
            "align_items": null,
            "bottom": null,
            "_model_module": "@jupyter-widgets/base",
            "top": null,
            "grid_column": null,
            "overflow_y": null,
            "overflow_x": null,
            "grid_auto_flow": null,
            "grid_area": null,
            "grid_template_columns": null,
            "flex": null,
            "_model_name": "LayoutModel",
            "justify_items": null,
            "grid_row": null,
            "max_height": null,
            "align_content": null,
            "visibility": null,
            "align_self": null,
            "height": null,
            "min_height": null,
            "padding": null,
            "grid_auto_rows": null,
            "grid_gap": null,
            "max_width": null,
            "order": null,
            "_view_module_version": "1.2.0",
            "grid_template_areas": null,
            "object_position": null,
            "object_fit": null,
            "grid_auto_columns": null,
            "margin": null,
            "display": null,
            "left": null
          }
        },
        "81a4b7c70de34117af69e28978a3b013": {
          "model_module": "jupyter-captum-insights",
          "model_name": "CaptumInsightsModel",
          "state": {
            "_view_name": "CaptumInsightsView",
            "insights_config": {
              "selected_method": "Integrated Gradients",
              "classes": [
                "plane",
                "car",
                "bird",
                "cat",
                "deer",
                "dog",
                "frog",
                "horse",
                "ship",
                "truck"
              ],
              "methods": [
                "Deconvolution",
                "Deep Lift",
                "Guided Backprop",
                "Input X Gradient",
                "Integrated Gradients",
                "Saliency",
                "Feature Ablation",
                "Occlusion"
              ],
              "method_arguments": {
                "Feature Ablation": {
                  "perturbations_per_eval": {
                    "type": "number",
                    "limit": [
                      1,
                      100
                    ],
                    "value": 1
                  }
                },
                "Occlusion": {
                  "strides": {
                    "type": "string",
                    "value": ""
                  },
                  "perturbations_per_eval": {
                    "type": "number",
                    "limit": [
                      1,
                      100
                    ],
                    "value": 1
                  },
                  "sliding_window_shapes": {
                    "type": "string",
                    "value": ""
                  }
                },
                "Integrated Gradients": {
                  "n_steps": {
                    "type": "number",
                    "limit": [
                      2,
                      null
                    ],
                    "value": 25
                  },
                  "method": {
                    "type": "enum",
                    "limit": [
                      "riemann_left",
                      "riemann_right",
                      "riemann_middle",
                      "riemann_trapezoid",
                      "gausslegendre"
                    ],
                    "value": "gausslegendre"
                  }
                }
              }
            },
            "_dom_classes": [],
            "_model_name": "CaptumInsightsModel",
            "config": {},
            "_view_module": "jupyter-captum-insights",
            "label_details": {},
            "_model_module_version": "^0.1.0",
            "_view_count": null,
            "_view_module_version": "^0.1.0",
            "output": [],
            "attribution": {},
            "_model_module": "jupyter-captum-insights",
            "layout": "IPY_MODEL_a74058b2a5fd4941b744911d2d1e731e"
          }
        }
      }
    }
  },
  "cells": [
    {
      "cell_type": "markdown",
      "metadata": {
        "id": "Pp1fXMH8oLz_"
      },
      "source": [
        "# Interpret your PyTorch model with Captum\n",
        "\n",
        "This notebook demonstrates how to use the methods available in Captum. It isn't focused on gaining information from the results. Rather it aims to give you information about how to implement Captum in your own project.\n",
        "\n",
        "<table align=\"left\"><td>\n",
        "  <a target=\"_blank\"  href=\"https://colab.research.google.com/github/TannerGilbert/Interpreting-PyTorch-models-with-Captum/blob/master/Interpret_your_PyTorch_model_with_Captum.ipynb\">\n",
        "    <img src=\"https://www.tensorflow.org/images/colab_logo_32px.png\" />Run in Google Colab\n",
        "  </a>\n",
        "</td><td>\n",
        "  <a target=\"_blank\"  href=\"https://github.com/TannerGilbert/Interpreting-PyTorch-models-with-Captum/blob/master/Interpret_your_PyTorch_model_with_Captum.ipynb\">\n",
        "    <img width=32px src=\"https://www.tensorflow.org/images/GitHub-Mark-32px.png\" />View source on GitHub</a>\n",
        "</td></table>"
      ]
    },
    {
      "cell_type": "code",
      "metadata": {
        "id": "yADE36K_ksI9"
      },
      "source": [
        "import matplotlib.pyplot as plt\n",
        "import numpy as np\n",
        "\n",
        "%matplotlib inline\n",
        "\n",
        "import torch\n",
        "import torchvision\n",
        "import torchvision.transforms as transforms\n",
        "import torchvision.transforms.functional as TF\n",
        "\n",
        "from torchvision import models"
      ],
      "execution_count": 1,
      "outputs": []
    },
    {
      "cell_type": "code",
      "metadata": {
        "colab": {
          "base_uri": "https://localhost:8080/",
          "height": 117,
          "referenced_widgets": [
            "2d5755486dc74311bfe48969783d3969",
            "1570648872044cd0a1e921a22806c6d6",
            "404e42b111064214b08e228f5ec80e5e",
            "49566f44f14c406da0600bfe454609e3",
            "7eb2abfc14924a639a1d7534b2d639a0",
            "292f8ffa19434b0b97c355a2a295a395",
            "17b039c7882c481e89a8197926b82bb2",
            "8c9ab340ae1f4662bba4d07a86379bff"
          ]
        },
        "id": "vD7xfql8kvR0",
        "outputId": "950019ef-2dbc-4503-8842-bb34eb0229f7"
      },
      "source": [
        "transform = transforms.Compose(\n",
        "    [transforms.ToTensor(),\n",
        "     transforms.Normalize((0.5, 0.5, 0.5), (0.5, 0.5, 0.5))])\n",
        "\n",
        "trainset = torchvision.datasets.CIFAR10(root='./data', train=True,\n",
        "                                        download=True, transform=transform)\n",
        "trainloader = torch.utils.data.DataLoader(trainset, batch_size=4,\n",
        "                                          shuffle=True, num_workers=2)\n",
        "\n",
        "testset = torchvision.datasets.CIFAR10(root='./data', train=False,\n",
        "                                       download=True, transform=transform)\n",
        "testloader = torch.utils.data.DataLoader(testset, batch_size=4,\n",
        "                                         shuffle=False, num_workers=2)\n",
        "\n",
        "classes = ('plane', 'car', 'bird', 'cat',\n",
        "           'deer', 'dog', 'frog', 'horse', 'ship', 'truck')"
      ],
      "execution_count": 2,
      "outputs": [
        {
          "output_type": "stream",
          "text": [
            "Downloading https://www.cs.toronto.edu/~kriz/cifar-10-python.tar.gz to ./data/cifar-10-python.tar.gz\n"
          ],
          "name": "stdout"
        },
        {
          "output_type": "display_data",
          "data": {
            "application/vnd.jupyter.widget-view+json": {
              "model_id": "2d5755486dc74311bfe48969783d3969",
              "version_minor": 0,
              "version_major": 2
            },
            "text/plain": [
              "HBox(children=(FloatProgress(value=0.0, max=170498071.0), HTML(value='')))"
            ]
          },
          "metadata": {
            "tags": []
          }
        },
        {
          "output_type": "stream",
          "text": [
            "\n",
            "Extracting ./data/cifar-10-python.tar.gz to ./data\n",
            "Files already downloaded and verified\n"
          ],
          "name": "stdout"
        }
      ]
    },
    {
      "cell_type": "code",
      "metadata": {
        "colab": {
          "base_uri": "https://localhost:8080/",
          "height": 155
        },
        "id": "mxy9Kn_joFzc",
        "outputId": "5328ea63-9c15-4368-87c7-cddf79463e4f"
      },
      "source": [
        "import matplotlib.pyplot as plt\n",
        "import numpy as np\n",
        "\n",
        "# functions to show an image\n",
        "\n",
        "\n",
        "def imshow(img):\n",
        "    img = img / 2 + 0.5     # unnormalize\n",
        "    npimg = img.numpy()\n",
        "    plt.imshow(np.transpose(npimg, (1, 2, 0)))\n",
        "\n",
        "\n",
        "# get some random training images\n",
        "dataiter = iter(trainloader)\n",
        "images, labels = dataiter.next()\n",
        "\n",
        "# show images\n",
        "imshow(torchvision.utils.make_grid(images))\n",
        "# print labels\n",
        "print(' '.join('%5s' % classes[labels[j]] for j in range(4)))"
      ],
      "execution_count": 3,
      "outputs": [
        {
          "output_type": "stream",
          "text": [
            "truck   cat  bird plane\n"
          ],
          "name": "stdout"
        },
        {
          "output_type": "display_data",
          "data": {
            "image/png": "[encoded data removed]",
            "text/plain": [
              "<Figure size 432x288 with 1 Axes>"
            ]
          },
          "metadata": {
            "tags": [],
            "needs_background": "light"
          }
        }
      ]
    },
    {
      "cell_type": "code",
      "metadata": {
        "id": "KYWC3lHboKhF"
      },
      "source": [
        "import torch.nn as nn\n",
        "import torch.nn.functional as F\n",
        "\n",
        "\n",
        "class Net(nn.Module):\n",
        "    def __init__(self):\n",
        "        super(Net, self).__init__()\n",
        "        self.conv1 = nn.Conv2d(3, 6, 5)\n",
        "        self.pool1 = nn.MaxPool2d(2, 2)\n",
        "        self.pool2 = nn.MaxPool2d(2, 2)\n",
        "        self.conv2 = nn.Conv2d(6, 16, 5)\n",
        "        self.fc1 = nn.Linear(16 * 5 * 5, 120)\n",
        "        self.fc2 = nn.Linear(120, 84)\n",
        "        self.fc3 = nn.Linear(84, 10)\n",
        "        self.relu1 = nn.ReLU()\n",
        "        self.relu2 = nn.ReLU()\n",
        "        self.relu3 = nn.ReLU()\n",
        "        self.relu4 = nn.ReLU()\n",
        "\n",
        "    def forward(self, x):\n",
        "        x = self.pool1(self.relu1(self.conv1(x)))\n",
        "        x = self.pool2(self.relu2(self.conv2(x)))\n",
        "        x = x.view(-1, 16 * 5 * 5)\n",
        "        x = self.relu3(self.fc1(x))\n",
        "        x = self.relu4(self.fc2(x))\n",
        "        x = self.fc3(x)\n",
        "        return x\n",
        "\n",
        "\n",
        "net = Net()"
      ],
      "execution_count": 4,
      "outputs": []
    },
    {
      "cell_type": "code",
      "metadata": {
        "id": "kccm0izFoLe3"
      },
      "source": [
        "import torch.optim as optim\n",
        "\n",
        "criterion = nn.CrossEntropyLoss()\n",
        "optimizer = optim.SGD(net.parameters(), lr=0.001, momentum=0.9)"
      ],
      "execution_count": 5,
      "outputs": []
    },
    {
      "cell_type": "code",
      "metadata": {
        "colab": {
          "base_uri": "https://localhost:8080/"
        },
        "id": "4l1ybxHkoPGv",
        "outputId": "2012aae0-785f-4ced-9cae-b7befbf5626d"
      },
      "source": [
        "for epoch in range(8):  # loop over the dataset multiple times\n",
        "\n",
        "    running_loss = 0.0\n",
        "    for i, data in enumerate(trainloader, 0):\n",
        "        # get the inputs\n",
        "        inputs, labels = data\n",
        "        # zero the parameter gradients\n",
        "        optimizer.zero_grad()\n",
        "\n",
        "        # forward + backward + optimize\n",
        "        outputs = net(inputs)\n",
        "        loss = criterion(outputs, labels)\n",
        "        loss.backward()\n",
        "        optimizer.step()\n",
        "\n",
        "        # print statistics\n",
        "        running_loss += loss.item()\n",
        "        if i % 2000 == 1999:    # print every 2000 mini-batches\n",
        "            print('[%d, %5d] loss: %.3f' %\n",
        "                  (epoch + 1, i + 1, running_loss / 2000))\n",
        "            running_loss = 0.0\n",
        "\n",
        "print('Finished Training')"
      ],
      "execution_count": 6,
      "outputs": [
        {
          "output_type": "stream",
          "text": [
            "[1,  2000] loss: 2.188\n",
            "[1,  4000] loss: 1.838\n",
            "[1,  6000] loss: 1.669\n",
            "[1,  8000] loss: 1.564\n",
            "[1, 10000] loss: 1.519\n",
            "[1, 12000] loss: 1.454\n",
            "[2,  2000] loss: 1.400\n",
            "[2,  4000] loss: 1.363\n",
            "[2,  6000] loss: 1.334\n",
            "[2,  8000] loss: 1.309\n",
            "[2, 10000] loss: 1.295\n",
            "[2, 12000] loss: 1.269\n",
            "[3,  2000] loss: 1.200\n",
            "[3,  4000] loss: 1.204\n",
            "[3,  6000] loss: 1.195\n",
            "[3,  8000] loss: 1.193\n",
            "[3, 10000] loss: 1.173\n",
            "[3, 12000] loss: 1.168\n",
            "[4,  2000] loss: 1.075\n",
            "[4,  4000] loss: 1.097\n",
            "[4,  6000] loss: 1.095\n",
            "[4,  8000] loss: 1.092\n",
            "[4, 10000] loss: 1.085\n",
            "[4, 12000] loss: 1.084\n",
            "[5,  2000] loss: 0.986\n",
            "[5,  4000] loss: 1.014\n",
            "[5,  6000] loss: 1.027\n",
            "[5,  8000] loss: 1.016\n",
            "[5, 10000] loss: 1.010\n",
            "[5, 12000] loss: 1.030\n",
            "[6,  2000] loss: 0.938\n",
            "[6,  4000] loss: 0.948\n",
            "[6,  6000] loss: 0.946\n",
            "[6,  8000] loss: 0.965\n",
            "[6, 10000] loss: 0.991\n",
            "[6, 12000] loss: 0.970\n",
            "[7,  2000] loss: 0.887\n",
            "[7,  4000] loss: 0.911\n",
            "[7,  6000] loss: 0.900\n",
            "[7,  8000] loss: 0.910\n",
            "[7, 10000] loss: 0.905\n",
            "[7, 12000] loss: 0.941\n",
            "[8,  2000] loss: 0.829\n",
            "[8,  4000] loss: 0.854\n",
            "[8,  6000] loss: 0.877\n",
            "[8,  8000] loss: 0.876\n",
            "[8, 10000] loss: 0.875\n",
            "[8, 12000] loss: 0.904\n",
            "Finished Training\n"
          ],
          "name": "stdout"
        }
      ]
    },
    {
      "cell_type": "code",
      "metadata": {
        "colab": {
          "base_uri": "https://localhost:8080/",
          "height": 155
        },
        "id": "-Ad6Apnboo6N",
        "outputId": "594149c2-0d01-4cbc-c89f-8525899740d3"
      },
      "source": [
        "dataiter = iter(testloader)\n",
        "images, labels = dataiter.next()\n",
        "\n",
        "# print images\n",
        "imshow(torchvision.utils.make_grid(images))\n",
        "print('GroundTruth: ', ' '.join('%5s' % classes[labels[j]] for j in range(4)))"
      ],
      "execution_count": 7,
      "outputs": [
        {
          "output_type": "stream",
          "text": [
            "GroundTruth:    cat  ship  ship plane\n"
          ],
          "name": "stdout"
        },
        {
          "output_type": "display_data",
          "data": {
            "image/png": "[encoded data removed]",
            "text/plain": [
              "<Figure size 432x288 with 1 Axes>"
            ]
          },
          "metadata": {
            "tags": [],
            "needs_background": "light"
          }
        }
      ]
    },
    {
      "cell_type": "code",
      "metadata": {
        "id": "pZVCRWcHo9SH"
      },
      "source": [
        "outputs = net(images)"
      ],
      "execution_count": 8,
      "outputs": []
    },
    {
      "cell_type": "code",
      "metadata": {
        "colab": {
          "base_uri": "https://localhost:8080/"
        },
        "id": "0wY-Op60pGag",
        "outputId": "c52a4ce0-186b-4069-df88-77e347782659"
      },
      "source": [
        "_, predicted = torch.max(outputs, 1)\n",
        "\n",
        "print('Predicted: ', ' '.join('%5s' % classes[predicted[j]]\n",
        "                              for j in range(4)))"
      ],
      "execution_count": 9,
      "outputs": [
        {
          "output_type": "stream",
          "text": [
            "Predicted:    cat  ship   car plane\n"
          ],
          "name": "stdout"
        }
      ]
    },
    {
      "cell_type": "code",
      "metadata": {
        "colab": {
          "base_uri": "https://localhost:8080/"
        },
        "id": "uJehSifKpHLf",
        "outputId": "50443480-46fb-4c56-a3d7-69f51b877f93"
      },
      "source": [
        "correct = 0\n",
        "total = 0\n",
        "with torch.no_grad():\n",
        "    for data in testloader:\n",
        "        images, labels = data\n",
        "        outputs = net(images)\n",
        "        _, predicted = torch.max(outputs.data, 1)\n",
        "        total += labels.size(0)\n",
        "        correct += (predicted == labels).sum().item()\n",
        "\n",
        "print('Accuracy of the network on the 10000 test images: %d %%' % (\n",
        "    100 * correct / total))"
      ],
      "execution_count": 10,
      "outputs": [
        {
          "output_type": "stream",
          "text": [
            "Accuracy of the network on the 10000 test images: 63 %\n"
          ],
          "name": "stdout"
        }
      ]
    },
    {
      "cell_type": "markdown",
      "metadata": {
        "id": "03wDlK4bIjNU"
      },
      "source": [
        "# Install Captum"
      ]
    },
    {
      "cell_type": "markdown",
      "metadata": {
        "id": "yVmCZHm4wiVc"
      },
      "source": [
        "Installing Captum is super simple. All you need is a simple pip install."
      ]
    },
    {
      "cell_type": "code",
      "metadata": {
        "colab": {
          "base_uri": "https://localhost:8080/"
        },
        "id": "BeYzu7iFLLX1",
        "outputId": "2bdf6df9-31d5-41c7-b033-7b2594940aa0"
      },
      "source": [
        "!pip install captum"
      ],
      "execution_count": 11,
      "outputs": [
        {
          "output_type": "stream",
          "text": [
            "Collecting captum\n",
            "\u001b[?25l  Downloading https://files.pythonhosted.org/packages/13/b0/8fa3ab89e2e37c960cdd09595fa911fbb8d6da216c8bc98e18c858a0128d/captum-0.3.1-py3-none-any.whl (4.4MB)\n",
            "\u001b[K     |████████████████████████████████| 4.4MB 15.9MB/s \n",
            "\u001b[?25hRequirement already satisfied: torch>=1.2 in /usr/local/lib/python3.7/dist-packages (from captum) (1.8.0+cu101)\n",
            "Requirement already satisfied: numpy in /usr/local/lib/python3.7/dist-packages (from captum) (1.19.5)\n",
            "Requirement already satisfied: matplotlib in /usr/local/lib/python3.7/dist-packages (from captum) (3.2.2)\n",
            "Requirement already satisfied: typing-extensions in /usr/local/lib/python3.7/dist-packages (from torch>=1.2->captum) (3.7.4.3)\n",
            "Requirement already satisfied: cycler>=0.10 in /usr/local/lib/python3.7/dist-packages (from matplotlib->captum) (0.10.0)\n",
            "Requirement already satisfied: python-dateutil>=2.1 in /usr/local/lib/python3.7/dist-packages (from matplotlib->captum) (2.8.1)\n",
            "Requirement already satisfied: pyparsing!=2.0.4,!=2.1.2,!=2.1.6,>=2.0.1 in /usr/local/lib/python3.7/dist-packages (from matplotlib->captum) (2.4.7)\n",
            "Requirement already satisfied: kiwisolver>=1.0.1 in /usr/local/lib/python3.7/dist-packages (from matplotlib->captum) (1.3.1)\n",
            "Requirement already satisfied: six in /usr/local/lib/python3.7/dist-packages (from cycler>=0.10->matplotlib->captum) (1.15.0)\n",
            "Installing collected packages: captum\n",
            "Successfully installed captum-0.3.1\n"
          ],
          "name": "stdout"
        }
      ]
    },
    {
      "cell_type": "markdown",
      "metadata": {
        "id": "VWc6UC-mogVW"
      },
      "source": [
        "# General Attribution Techniques\n",
        "\n",
        "First we can take a look at what features are actually important to the model when making predictions. Captum has multiple methods for this. For more information about the theory behind these methods take a look at the [official documentation](https://captum.ai/docs/algorithms#general-attribution)."
      ]
    },
    {
      "cell_type": "code",
      "metadata": {
        "id": "VYrI5NMiJRl9"
      },
      "source": [
        "from captum.attr import IntegratedGradients\n",
        "from captum.attr import Saliency\n",
        "from captum.attr import DeepLift\n",
        "from captum.attr import NoiseTunnel\n",
        "from captum.attr import visualization as viz"
      ],
      "execution_count": 12,
      "outputs": []
    },
    {
      "cell_type": "markdown",
      "metadata": {
        "id": "S9Fh3vwDI3Pb"
      },
      "source": [
        "Pick a test image to analyse."
      ]
    },
    {
      "cell_type": "code",
      "metadata": {
        "id": "SWSoBEpuIwzE"
      },
      "source": [
        "ind = 3\n",
        "\n",
        "input = images[ind].unsqueeze(0)\n",
        "input.requires_grad = True"
      ],
      "execution_count": 13,
      "outputs": []
    },
    {
      "cell_type": "code",
      "metadata": {
        "colab": {
          "base_uri": "https://localhost:8080/"
        },
        "id": "iugOHOPBI8pJ",
        "outputId": "8f99b110-264b-4785-f584-799ac6a3ee84"
      },
      "source": [
        "net.eval()"
      ],
      "execution_count": 14,
      "outputs": [
        {
          "output_type": "execute_result",
          "data": {
            "text/plain": [
              "Net(\n",
              "  (conv1): Conv2d(3, 6, kernel_size=(5, 5), stride=(1, 1))\n",
              "  (pool1): MaxPool2d(kernel_size=2, stride=2, padding=0, dilation=1, ceil_mode=False)\n",
              "  (pool2): MaxPool2d(kernel_size=2, stride=2, padding=0, dilation=1, ceil_mode=False)\n",
              "  (conv2): Conv2d(6, 16, kernel_size=(5, 5), stride=(1, 1))\n",
              "  (fc1): Linear(in_features=400, out_features=120, bias=True)\n",
              "  (fc2): Linear(in_features=120, out_features=84, bias=True)\n",
              "  (fc3): Linear(in_features=84, out_features=10, bias=True)\n",
              "  (relu1): ReLU()\n",
              "  (relu2): ReLU()\n",
              "  (relu3): ReLU()\n",
              "  (relu4): ReLU()\n",
              ")"
            ]
          },
          "metadata": {
            "tags": []
          },
          "execution_count": 14
        }
      ]
    },
    {
      "cell_type": "code",
      "metadata": {
        "id": "Wipl-zAMJC8k"
      },
      "source": [
        "def attribute_image_features(algorithm, input, **kwargs):\n",
        "    net.zero_grad()\n",
        "    tensor_attributions = algorithm.attribute(input,\n",
        "                                              target=labels[ind],\n",
        "                                              **kwargs\n",
        "                                             )\n",
        "    \n",
        "    return tensor_attributions"
      ],
      "execution_count": 15,
      "outputs": []
    },
    {
      "cell_type": "code",
      "metadata": {
        "colab": {
          "base_uri": "https://localhost:8080/"
        },
        "id": "kpwnQuXbKm-6",
        "outputId": "7e5f9f09-2ca9-48dd-9f1f-05adffa15bea"
      },
      "source": [
        "saliency = Saliency(net)\n",
        "grads = saliency.attribute(input, target=labels[ind].item())\n",
        "grads = np.transpose(grads.squeeze().cpu().detach().numpy(), (1, 2, 0))\n",
        "print(grads.shape)"
      ],
      "execution_count": 16,
      "outputs": [
        {
          "output_type": "stream",
          "text": [
            "(32, 32, 3)\n"
          ],
          "name": "stdout"
        }
      ]
    },
    {
      "cell_type": "code",
      "metadata": {
        "colab": {
          "base_uri": "https://localhost:8080/"
        },
        "id": "7a3chfDxKsUB",
        "outputId": "863ac2e3-17aa-4f89-b3dc-97c044eda374"
      },
      "source": [
        "ig = IntegratedGradients(net)\n",
        "attr_ig, delta = attribute_image_features(ig, input, baselines=input * 0, return_convergence_delta=True)\n",
        "attr_ig = np.transpose(attr_ig.squeeze().cpu().detach().numpy(), (1, 2, 0))\n",
        "print('Approximation delta: ', abs(delta))"
      ],
      "execution_count": 17,
      "outputs": [
        {
          "output_type": "stream",
          "text": [
            "Approximation delta:  tensor([0.1273], dtype=torch.float64)\n"
          ],
          "name": "stdout"
        }
      ]
    },
    {
      "cell_type": "code",
      "metadata": {
        "id": "8OypjhbDKwr7"
      },
      "source": [
        "ig = IntegratedGradients(net)\n",
        "nt = NoiseTunnel(ig)\n",
        "attr_ig_nt = attribute_image_features(nt, input, baselines=input * 0, nt_type='smoothgrad_sq',\n",
        "                                      n_samples=100, stdevs=0.2)\n",
        "attr_ig_nt = np.transpose(attr_ig_nt.squeeze(0).cpu().detach().numpy(), (1, 2, 0))"
      ],
      "execution_count": 18,
      "outputs": []
    },
    {
      "cell_type": "code",
      "metadata": {
        "colab": {
          "base_uri": "https://localhost:8080/"
        },
        "id": "h2B81GG7Kxdx",
        "outputId": "7f517d90-2adc-4a11-e6b2-9306f8e09e6a"
      },
      "source": [
        "dl = DeepLift(net)\n",
        "attr_dl = attribute_image_features(dl, input, baselines=input * 0)\n",
        "attr_dl = np.transpose(attr_dl.squeeze(0).cpu().detach().numpy(), (1, 2, 0))"
      ],
      "execution_count": 19,
      "outputs": [
        {
          "output_type": "stream",
          "text": [
            "/usr/local/lib/python3.7/dist-packages/captum/attr/_core/deep_lift.py:325: UserWarning: Setting forward, backward hooks and attributes on non-linear\n",
            "               activations. The hooks and attributes will be removed\n",
            "            after the attribution is finished\n",
            "  after the attribution is finished\"\"\"\n"
          ],
          "name": "stderr"
        }
      ]
    },
    {
      "cell_type": "code",
      "metadata": {
        "colab": {
          "base_uri": "https://localhost:8080/",
          "height": 1000
        },
        "id": "eGZAg3rcK0aj",
        "outputId": "68b639ee-e496-4118-fad5-dd2210853071"
      },
      "source": [
        "print('Predicted:', classes[predicted[ind]], \n",
        "      ' Probability:', torch.max(F.softmax(outputs, 1)).item())\n",
        "\n",
        "original_image = np.transpose((images[ind].cpu().detach().numpy() / 2) + 0.5, (1, 2, 0))\n",
        "\n",
        "_ = viz.visualize_image_attr(None, original_image, \n",
        "                      method=\"original_image\", title=\"Original Image\")\n",
        "\n",
        "_ = viz.visualize_image_attr(grads, original_image, method=\"blended_heat_map\", sign=\"absolute_value\",\n",
        "                          show_colorbar=True, title=\"Overlayed Gradient Magnitudes\")\n",
        "\n",
        "_ = viz.visualize_image_attr(attr_ig, original_image, method=\"blended_heat_map\",sign=\"all\",\n",
        "                          show_colorbar=True, title=\"Overlayed Integrated Gradients\")\n",
        "\n",
        "_ = viz.visualize_image_attr(attr_ig_nt, original_image, method=\"blended_heat_map\", sign=\"absolute_value\", \n",
        "                             outlier_perc=10, show_colorbar=True, \n",
        "                             title=\"Overlayed Integrated Gradients \\n with SmoothGrad Squared\")\n",
        "\n",
        "_ = viz.visualize_image_attr(attr_dl, original_image, method=\"blended_heat_map\",sign=\"all\",show_colorbar=True, \n",
        "                          title=\"Overlayed DeepLift\")"
      ],
      "execution_count": 20,
      "outputs": [
        {
          "output_type": "stream",
          "text": [
            "Predicted: horse  Probability: 0.9984983205795288\n"
          ],
          "name": "stdout"
        },
        {
          "output_type": "display_data",
          "data": {
            "image/png": "[encoded data removed]",
            "text/plain": [
              "<Figure size 432x432 with 1 Axes>"
            ]
          },
          "metadata": {
            "tags": [],
            "needs_background": "light"
          }
        },
        {
          "output_type": "display_data",
          "data": {
            "image/png": "[encoded data removed]",
            "text/plain": [
              "<Figure size 432x432 with 2 Axes>"
            ]
          },
          "metadata": {
            "tags": [],
            "needs_background": "light"
          }
        },
        {
          "output_type": "display_data",
          "data": {
            "image/png": "[encoded data removed]",
            "text/plain": [
              "<Figure size 432x432 with 2 Axes>"
            ]
          },
          "metadata": {
            "tags": [],
            "needs_background": "light"
          }
        },
        {
          "output_type": "display_data",
          "data": {
            "image/png": "[encoded data removed]",
            "text/plain": [
              "<Figure size 432x432 with 2 Axes>"
            ]
          },
          "metadata": {
            "tags": [],
            "needs_background": "light"
          }
        },
        {
          "output_type": "display_data",
          "data": {
            "image/png": "[encoded data removed]",
            "text/plain": [
              "<Figure size 432x432 with 2 Axes>"
            ]
          },
          "metadata": {
            "tags": [],
            "needs_background": "light"
          }
        }
      ]
    },
    {
      "cell_type": "markdown",
      "metadata": {
        "id": "82WxLVehdU4e"
      },
      "source": [
        "# Layer Attribution Techniques"
      ]
    },
    {
      "cell_type": "code",
      "metadata": {
        "id": "v2VvCc6jgxYB"
      },
      "source": [
        "from captum.attr._core.layer.layer_conductance import LayerConductance\n",
        "from captum.attr._core.layer.layer_activation import LayerActivation\n",
        "from captum.attr._core.layer.internal_influence import InternalInfluence\n",
        "from captum.attr._core.layer.layer_gradient_x_activation import LayerGradientXActivation"
      ],
      "execution_count": 21,
      "outputs": []
    },
    {
      "cell_type": "code",
      "metadata": {
        "id": "3nMu5xWPrjCa"
      },
      "source": [
        "def visualize_importances(feature_names, importances, title=\"Average Feature Importances\", plot=True, text=True, axis_title=\"Features\"):\n",
        "    if text:\n",
        "        print(title)\n",
        "        for i in range(len(feature_names)):\n",
        "            print(feature_names[i], \": \", '%.3f'%(importances[i]))\n",
        "    x_pos = (np.arange(len(feature_names)))\n",
        "    if plot:\n",
        "        plt.figure(figsize=(12,6))\n",
        "        plt.bar(x_pos, importances, align='center')\n",
        "        plt.xticks(x_pos, feature_names, wrap=True)\n",
        "        plt.xlabel(axis_title)\n",
        "        plt.title(title)"
      ],
      "execution_count": 22,
      "outputs": []
    },
    {
      "cell_type": "code",
      "metadata": {
        "id": "1X19ZN8FdaR-"
      },
      "source": [
        "layer_cond = LayerConductance(net, net.fc3)\n",
        "attr_lc = layer_cond.attribute(input, target=labels[ind].item()).detach().numpy()"
      ],
      "execution_count": 23,
      "outputs": []
    },
    {
      "cell_type": "code",
      "metadata": {
        "colab": {
          "base_uri": "https://localhost:8080/",
          "height": 591
        },
        "id": "TpLVblIZr4Mo",
        "outputId": "40c6ab26-8a8c-4f17-e684-acfaced151ba"
      },
      "source": [
        "visualize_importances(range(10),np.mean(attr_lc, axis=0),title=\"Average Neuron Importances\", axis_title=\"Neurons\")"
      ],
      "execution_count": 24,
      "outputs": [
        {
          "output_type": "stream",
          "text": [
            "Average Neuron Importances\n",
            "0 :  0.000\n",
            "1 :  0.000\n",
            "2 :  0.000\n",
            "3 :  0.000\n",
            "4 :  0.000\n",
            "5 :  0.000\n",
            "6 :  0.000\n",
            "7 :  15.366\n",
            "8 :  0.000\n",
            "9 :  0.000\n"
          ],
          "name": "stdout"
        },
        {
          "output_type": "display_data",
          "data": {
            "image/png": "[encoded data removed]",
            "text/plain": [
              "<Figure size 864x432 with 1 Axes>"
            ]
          },
          "metadata": {
            "tags": [],
            "needs_background": "light"
          }
        }
      ]
    },
    {
      "cell_type": "code",
      "metadata": {
        "colab": {
          "base_uri": "https://localhost:8080/",
          "height": 545
        },
        "id": "E5dxQ4vCr63T",
        "outputId": "10f28c07-af41-47df-d44b-e3e19ae69e75"
      },
      "source": [
        "plt.hist(attr_lc[:,0], 100);\n",
        "plt.title(\"Neuron 0 Distribution\")\n",
        "plt.figure()\n",
        "plt.hist(attr_lc[:,7], 100);\n",
        "plt.title(\"Neuron 1 Distribution\");"
      ],
      "execution_count": 25,
      "outputs": [
        {
          "output_type": "display_data",
          "data": {
            "image/png": "[encoded data removed]",
            "text/plain": [
              "<Figure size 432x288 with 1 Axes>"
            ]
          },
          "metadata": {
            "tags": [],
            "needs_background": "light"
          }
        },
        {
          "output_type": "display_data",
          "data": {
            "image/png": "[encoded data removed]",
            "text/plain": [
              "<Figure size 432x288 with 1 Axes>"
            ]
          },
          "metadata": {
            "tags": [],
            "needs_background": "light"
          }
        }
      ]
    },
    {
      "cell_type": "code",
      "metadata": {
        "colab": {
          "base_uri": "https://localhost:8080/",
          "height": 404
        },
        "id": "fjIT0V1ttl_E",
        "outputId": "d41d5989-7f30-4d8e-d194-0706b941e015"
      },
      "source": [
        "layer_cond = LayerConductance(net, net.fc2)\n",
        "attr_lc = layer_cond.attribute(input, target=labels[ind].item()).detach().numpy()\n",
        "visualize_importances(range(84),np.mean(attr_lc, axis=0),title=\"Average Neuron Importances\", axis_title=\"Neurons\", text=False)"
      ],
      "execution_count": 26,
      "outputs": [
        {
          "output_type": "display_data",
          "data": {
            "image/png": "[encoded data removed]",
            "text/plain": [
              "<Figure size 864x432 with 1 Axes>"
            ]
          },
          "metadata": {
            "tags": [],
            "needs_background": "light"
          }
        }
      ]
    },
    {
      "cell_type": "code",
      "metadata": {
        "id": "kQdtGktmfhIG"
      },
      "source": [
        "layer_act = LayerActivation(net, net.fc3)\n",
        "attr_la = layer_cond.attribute(input, target=labels[ind].item()).detach().numpy()"
      ],
      "execution_count": 27,
      "outputs": []
    },
    {
      "cell_type": "code",
      "metadata": {
        "id": "aAayuns3f5kS"
      },
      "source": [
        "layer_int_inf = InternalInfluence(net, net.fc3)\n",
        "attr_lii = layer_int_inf.attribute(input, target=labels[ind].item())"
      ],
      "execution_count": 28,
      "outputs": []
    },
    {
      "cell_type": "code",
      "metadata": {
        "id": "RHzNNOSWgCAK"
      },
      "source": [
        "layer_ga = LayerGradientXActivation(net, net.fc3)\n",
        "attr_lg = layer_ga.attribute(input, target=labels[ind].item())"
      ],
      "execution_count": 29,
      "outputs": []
    },
    {
      "cell_type": "markdown",
      "metadata": {
        "id": "fEJk3lGCdbIc"
      },
      "source": [
        "# Neuron Attribution Techniques"
      ]
    },
    {
      "cell_type": "code",
      "metadata": {
        "id": "ptFZSNj8wIfu"
      },
      "source": [
        "from captum.attr._core.neuron.neuron_gradient import NeuronGradient\n",
        "from captum.attr._core.neuron.neuron_integrated_gradients import NeuronIntegratedGradients"
      ],
      "execution_count": 30,
      "outputs": []
    },
    {
      "cell_type": "code",
      "metadata": {
        "id": "k9tSRDihunXM"
      },
      "source": [
        "neuron_g = NeuronGradient(net, net.conv1)\n",
        "attr_ng = neuron_g.attribute(input, neuron_index=(4, 1, 2))\n",
        "attr_ng = np.transpose(attr_ng.squeeze().cpu().detach().numpy(), (1, 2, 0))"
      ],
      "execution_count": 31,
      "outputs": []
    },
    {
      "cell_type": "code",
      "metadata": {
        "id": "f7_YS-MEweE8"
      },
      "source": [
        "neuron_ig = NeuronIntegratedGradients(net, net.conv1)\n",
        "attr_nig = neuron_ig.attribute(input, neuron_index=(4, 1, 2))\n",
        "attr_nig = np.transpose(attr_nig.squeeze().cpu().detach().numpy(), (1, 2, 0))"
      ],
      "execution_count": 32,
      "outputs": []
    },
    {
      "cell_type": "code",
      "metadata": {
        "colab": {
          "base_uri": "https://localhost:8080/",
          "height": 1000
        },
        "id": "Pcye2X_2xlJv",
        "outputId": "feb29c77-e302-4da6-dcb7-c68084ec0985"
      },
      "source": [
        "original_image = np.transpose((images[ind].cpu().detach().numpy() / 2) + 0.5, (1, 2, 0))\n",
        "\n",
        "_ = viz.visualize_image_attr(None, original_image, \n",
        "                      method=\"original_image\", title=\"Original Image\")\n",
        "\n",
        "_ = viz.visualize_image_attr(attr_ng, original_image, method=\"blended_heat_map\",\n",
        "                          show_colorbar=True, title=\"NeuronGradient\")\n",
        "\n",
        "_ = viz.visualize_image_attr(attr_nig, original_image, method=\"blended_heat_map\",\n",
        "                          show_colorbar=True, title=\"NeuronIntegratedGradients\")"
      ],
      "execution_count": 33,
      "outputs": [
        {
          "output_type": "display_data",
          "data": {
            "image/png": "[encoded data removed]",
            "text/plain": [
              "<Figure size 432x432 with 1 Axes>"
            ]
          },
          "metadata": {
            "tags": [],
            "needs_background": "light"
          }
        },
        {
          "output_type": "display_data",
          "data": {
            "image/png": "[encoded data removed]",
            "text/plain": [
              "<Figure size 432x432 with 2 Axes>"
            ]
          },
          "metadata": {
            "tags": [],
            "needs_background": "light"
          }
        },
        {
          "output_type": "display_data",
          "data": {
            "image/png": "[encoded data removed]",
            "text/plain": [
              "<Figure size 432x432 with 2 Axes>"
            ]
          },
          "metadata": {
            "tags": [],
            "needs_background": "light"
          }
        }
      ]
    },
    {
      "cell_type": "markdown",
      "metadata": {
        "id": "U5brves8P4lK"
      },
      "source": [
        "# Captum Insights"
      ]
    },
    {
      "cell_type": "code",
      "metadata": {
        "id": "iAKtIFKjTG-i",
        "outputId": "578f915d-66c2-4063-d003-2165ab7e7128",
        "colab": {
          "base_uri": "https://localhost:8080/"
        }
      },
      "source": [
        "!pip install flask_compress"
      ],
      "execution_count": 34,
      "outputs": [
        {
          "output_type": "stream",
          "text": [
            "Collecting flask_compress\n",
            "  Downloading https://files.pythonhosted.org/packages/c6/d5/69b13600230d24310b98a52da561113fc01a5c17acf77152761eef3e50f1/Flask_Compress-1.9.0-py3-none-any.whl\n",
            "Collecting brotli\n",
            "\u001b[?25l  Downloading https://files.pythonhosted.org/packages/15/ea/5bd575511b37bbd1c794606a0a621e6feff8e96b7dd007a86a5d218b2d94/Brotli-1.0.9-cp37-cp37m-manylinux1_x86_64.whl (357kB)\n",
            "\u001b[K     |████████████████████████████████| 358kB 10.7MB/s \n",
            "\u001b[?25hRequirement already satisfied: flask in /usr/local/lib/python3.7/dist-packages (from flask_compress) (1.1.2)\n",
            "Requirement already satisfied: itsdangerous>=0.24 in /usr/local/lib/python3.7/dist-packages (from flask->flask_compress) (1.1.0)\n",
            "Requirement already satisfied: click>=5.1 in /usr/local/lib/python3.7/dist-packages (from flask->flask_compress) (7.1.2)\n",
            "Requirement already satisfied: Jinja2>=2.10.1 in /usr/local/lib/python3.7/dist-packages (from flask->flask_compress) (2.11.3)\n",
            "Requirement already satisfied: Werkzeug>=0.15 in /usr/local/lib/python3.7/dist-packages (from flask->flask_compress) (1.0.1)\n",
            "Requirement already satisfied: MarkupSafe>=0.23 in /usr/local/lib/python3.7/dist-packages (from Jinja2>=2.10.1->flask->flask_compress) (1.1.1)\n",
            "Installing collected packages: brotli, flask-compress\n",
            "Successfully installed brotli-1.0.9 flask-compress-1.9.0\n"
          ],
          "name": "stdout"
        }
      ]
    },
    {
      "cell_type": "code",
      "metadata": {
        "id": "w5ZoCrStP6Qe"
      },
      "source": [
        "from captum.insights import AttributionVisualizer, Batch\n",
        "from captum.insights.attr_vis.features import ImageFeature"
      ],
      "execution_count": 35,
      "outputs": []
    },
    {
      "cell_type": "code",
      "metadata": {
        "id": "2fDQsWq1P7OF"
      },
      "source": [
        "def baseline_func(input):\n",
        "    return input * 0\n",
        "\n",
        "visualizer = AttributionVisualizer(\n",
        "    models=[net],\n",
        "    score_func=lambda o: torch.nn.functional.softmax(o, 1),\n",
        "    classes=classes,\n",
        "    features=[\n",
        "        ImageFeature(\n",
        "            \"Photo\",\n",
        "            baseline_transforms=[baseline_func],\n",
        "            input_transforms=[],\n",
        "        )\n",
        "    ],\n",
        "    dataset=testloader,\n",
        ")"
      ],
      "execution_count": 36,
      "outputs": []
    },
    {
      "cell_type": "code",
      "metadata": {
        "colab": {
          "base_uri": "https://localhost:8080/",
          "height": 17,
          "referenced_widgets": [
            "81a4b7c70de34117af69e28978a3b013"
          ]
        },
        "id": "JWBjSE6ZQoHW",
        "outputId": "a2317cd9-c362-4b87-f8d0-35a26c4d84d2"
      },
      "source": [
        "visualizer.render(debug=False)"
      ],
      "execution_count": 37,
      "outputs": [
        {
          "output_type": "display_data",
          "data": {
            "application/vnd.jupyter.widget-view+json": {
              "model_id": "81a4b7c70de34117af69e28978a3b013",
              "version_minor": 0,
              "version_major": 2
            },
            "text/plain": [
              "CaptumInsights(insights_config={'classes': ('plane', 'car', 'bird', 'cat', 'deer', 'dog', 'frog', 'horse', 'sh…"
            ]
          },
          "metadata": {
            "tags": []
          }
        }
      ]
    }
  ]
}